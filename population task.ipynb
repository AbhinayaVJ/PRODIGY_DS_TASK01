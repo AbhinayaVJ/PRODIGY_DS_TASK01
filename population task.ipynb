{
  "metadata": {
    "kernelspec": {
      "name": "python",
      "display_name": "Python (Pyodide)",
      "language": "python"
    },
    "language_info": {
      "codemirror_mode": {
        "name": "python",
        "version": 3
      },
      "file_extension": ".py",
      "mimetype": "text/x-python",
      "name": "python",
      "nbconvert_exporter": "python",
      "pygments_lexer": "ipython3",
      "version": "3.8"
    }
  },
  "nbformat_minor": 4,
  "nbformat": 4,
  "cells": [
    {
      "cell_type": "code",
      "source": "import numpy as np # linear algebra\nimport pandas as pd # data processing, CSV file I/O (e.g. pd.read_csv)\n\n# Input data files are available in the read-only \"../input/\" directory\n# For example, running this (by clicking run or pressing Shift+Enter) will list all files under the input directory\n\nimport os\nfor dirname, _, filenames in os.walk('population dataset.csv'):\n    for filename in filenames:\n        print(os.path.join(dirname, filename))\n",
      "metadata": {
        "trusted": true
      },
      "outputs": [],
      "execution_count": null
    },
    {
      "cell_type": "code",
      "source": "data = pd.read_csv('/kaggle/input/world-population-dataset/world_population.csv')\n",
      "metadata": {
        "trusted": true
      },
      "outputs": [],
      "execution_count": null
    },
    {
      "cell_type": "code",
      "source": "data.head()",
      "metadata": {
        "trusted": true
      },
      "outputs": [],
      "execution_count": null
    },
    {
      "cell_type": "code",
      "source": "import matplotlib.pyplot as plt",
      "metadata": {
        "trusted": true
      },
      "outputs": [],
      "execution_count": null
    },
    {
      "cell_type": "code",
      "source": "plt.figure(figsize=(24, 6))\nplt.bar(data[\"Country/Territory\"], data[\"2022 Population\"], color='skyblue')\nplt.title('2022 Population by Country')\nplt.xlabel('Country')\nplt.ylabel('Population')\nplt.xticks(rotation=90)  # Rotate the x-axis labels for better readability\nplt.show()",
      "metadata": {
        "trusted": true
      },
      "outputs": [],
      "execution_count": null
    },
    {
      "cell_type": "code",
      "source": "plt.figure(figsize=(8, 6))\nplt.hist(data[\"Density (per km²)\"], bins=10, color='lightcoral', edgecolor='black')\nplt.title('Population Density Histogram (2022)')\nplt.xlabel('Density (per km²)')\nplt.ylabel('Frequency')\nplt.show()",
      "metadata": {
        "trusted": true
      },
      "outputs": [],
      "execution_count": null
    },
    {
      "cell_type": "code",
      "source": "import matplotlib.pyplot as plt\nimport numpy as np\n\n# Extract the relevant columns from your data\ncountries = data[\"Country/Territory\"]\nyears = [\"2022 Population\", \"2020 Population\", \"2015 Population\", \"2010 Population\", \"2000 Population\"]\n\n# Transpose the data for plotting\npopulation_data = np.array([data[year] for year in years])\n\n# Create a stacked bar chart\nplt.figure(figsize=(24, 6))\nbottom = np.zeros(len(countries))\n\nfor i, year in enumerate(years):\n    plt.bar(countries, population_data[i], label=year, bottom=bottom)\n    bottom += population_data[i]\n\nplt.title('Population Over the Years')\nplt.xlabel('Country')\nplt.ylabel('Population')\nplt.xticks(rotation=90)\nplt.legend()\nplt.show()",
      "metadata": {
        "trusted": true
      },
      "outputs": [],
      "execution_count": null
    },
    {
      "cell_type": "code",
      "source": "density = data[\"Density (per km²)\"]\ngrowth_rate = data[\"Growth Rate\"]\n\nplt.figure(figsize=(10, 6))\nplt.scatter(density, growth_rate, c='blue', alpha=0.5)\nplt.title('Population Density vs. Growth Rate (2022)')\nplt.xlabel('Density (per km²)')\nplt.ylabel('Growth Rate')\nplt.grid(True)\nplt.show()",
      "metadata": {
        "trusted": true
      },
      "outputs": [],
      "execution_count": null
    }
  ]
}